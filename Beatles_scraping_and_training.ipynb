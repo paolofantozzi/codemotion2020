{
  "nbformat": 4,
  "nbformat_minor": 0,
  "metadata": {
    "colab": {
      "name": "Beatles scraping and training.ipynb",
      "provenance": [],
      "collapsed_sections": [],
      "authorship_tag": "ABX9TyNRIv5HFxc4iMb9i46n/BGl",
      "include_colab_link": true
    },
    "kernelspec": {
      "name": "python3",
      "display_name": "Python 3"
    },
    "accelerator": "GPU",
    "widgets": {
      "application/vnd.jupyter.widget-state+json": {
        "8a430d76b4f4474fa1e9396c024a7d4c": {
          "model_module": "@jupyter-widgets/controls",
          "model_name": "HBoxModel",
          "state": {
            "_view_name": "HBoxView",
            "_dom_classes": [],
            "_model_name": "HBoxModel",
            "_view_module": "@jupyter-widgets/controls",
            "_model_module_version": "1.5.0",
            "_view_count": null,
            "_view_module_version": "1.5.0",
            "box_style": "",
            "layout": "IPY_MODEL_60b9ac5511d64d858eff3ea79b7bd304",
            "_model_module": "@jupyter-widgets/controls",
            "children": [
              "IPY_MODEL_559ed45412ed433cbb7ec7e261a642d5",
              "IPY_MODEL_d424860c24ac455b9f5358efad585fdb"
            ]
          }
        },
        "60b9ac5511d64d858eff3ea79b7bd304": {
          "model_module": "@jupyter-widgets/base",
          "model_name": "LayoutModel",
          "state": {
            "_view_name": "LayoutView",
            "grid_template_rows": null,
            "right": null,
            "justify_content": null,
            "_view_module": "@jupyter-widgets/base",
            "overflow": null,
            "_model_module_version": "1.2.0",
            "_view_count": null,
            "flex_flow": null,
            "width": null,
            "min_width": null,
            "border": null,
            "align_items": null,
            "bottom": null,
            "_model_module": "@jupyter-widgets/base",
            "top": null,
            "grid_column": null,
            "overflow_y": null,
            "overflow_x": null,
            "grid_auto_flow": null,
            "grid_area": null,
            "grid_template_columns": null,
            "flex": null,
            "_model_name": "LayoutModel",
            "justify_items": null,
            "grid_row": null,
            "max_height": null,
            "align_content": null,
            "visibility": null,
            "align_self": null,
            "height": null,
            "min_height": null,
            "padding": null,
            "grid_auto_rows": null,
            "grid_gap": null,
            "max_width": null,
            "order": null,
            "_view_module_version": "1.2.0",
            "grid_template_areas": null,
            "object_position": null,
            "object_fit": null,
            "grid_auto_columns": null,
            "margin": null,
            "display": null,
            "left": null
          }
        },
        "559ed45412ed433cbb7ec7e261a642d5": {
          "model_module": "@jupyter-widgets/controls",
          "model_name": "FloatProgressModel",
          "state": {
            "_view_name": "ProgressView",
            "style": "IPY_MODEL_120a163d6650468c9a952a0c44dd65ac",
            "_dom_classes": [],
            "description": "Downloading: 100%",
            "_model_name": "FloatProgressModel",
            "bar_style": "success",
            "max": 665,
            "_view_module": "@jupyter-widgets/controls",
            "_model_module_version": "1.5.0",
            "value": 665,
            "_view_count": null,
            "_view_module_version": "1.5.0",
            "orientation": "horizontal",
            "min": 0,
            "description_tooltip": null,
            "_model_module": "@jupyter-widgets/controls",
            "layout": "IPY_MODEL_587e05f3c3e9485d90d08ac96f9f2ad3"
          }
        },
        "d424860c24ac455b9f5358efad585fdb": {
          "model_module": "@jupyter-widgets/controls",
          "model_name": "HTMLModel",
          "state": {
            "_view_name": "HTMLView",
            "style": "IPY_MODEL_50f022488c6e492db7f551121873f4d7",
            "_dom_classes": [],
            "description": "",
            "_model_name": "HTMLModel",
            "placeholder": "​",
            "_view_module": "@jupyter-widgets/controls",
            "_model_module_version": "1.5.0",
            "value": " 665/665 [00:00&lt;00:00, 19.0kB/s]",
            "_view_count": null,
            "_view_module_version": "1.5.0",
            "description_tooltip": null,
            "_model_module": "@jupyter-widgets/controls",
            "layout": "IPY_MODEL_067f4e5c1682458da478005a667f2398"
          }
        },
        "120a163d6650468c9a952a0c44dd65ac": {
          "model_module": "@jupyter-widgets/controls",
          "model_name": "ProgressStyleModel",
          "state": {
            "_view_name": "StyleView",
            "_model_name": "ProgressStyleModel",
            "description_width": "initial",
            "_view_module": "@jupyter-widgets/base",
            "_model_module_version": "1.5.0",
            "_view_count": null,
            "_view_module_version": "1.2.0",
            "bar_color": null,
            "_model_module": "@jupyter-widgets/controls"
          }
        },
        "587e05f3c3e9485d90d08ac96f9f2ad3": {
          "model_module": "@jupyter-widgets/base",
          "model_name": "LayoutModel",
          "state": {
            "_view_name": "LayoutView",
            "grid_template_rows": null,
            "right": null,
            "justify_content": null,
            "_view_module": "@jupyter-widgets/base",
            "overflow": null,
            "_model_module_version": "1.2.0",
            "_view_count": null,
            "flex_flow": null,
            "width": null,
            "min_width": null,
            "border": null,
            "align_items": null,
            "bottom": null,
            "_model_module": "@jupyter-widgets/base",
            "top": null,
            "grid_column": null,
            "overflow_y": null,
            "overflow_x": null,
            "grid_auto_flow": null,
            "grid_area": null,
            "grid_template_columns": null,
            "flex": null,
            "_model_name": "LayoutModel",
            "justify_items": null,
            "grid_row": null,
            "max_height": null,
            "align_content": null,
            "visibility": null,
            "align_self": null,
            "height": null,
            "min_height": null,
            "padding": null,
            "grid_auto_rows": null,
            "grid_gap": null,
            "max_width": null,
            "order": null,
            "_view_module_version": "1.2.0",
            "grid_template_areas": null,
            "object_position": null,
            "object_fit": null,
            "grid_auto_columns": null,
            "margin": null,
            "display": null,
            "left": null
          }
        },
        "50f022488c6e492db7f551121873f4d7": {
          "model_module": "@jupyter-widgets/controls",
          "model_name": "DescriptionStyleModel",
          "state": {
            "_view_name": "StyleView",
            "_model_name": "DescriptionStyleModel",
            "description_width": "",
            "_view_module": "@jupyter-widgets/base",
            "_model_module_version": "1.5.0",
            "_view_count": null,
            "_view_module_version": "1.2.0",
            "_model_module": "@jupyter-widgets/controls"
          }
        },
        "067f4e5c1682458da478005a667f2398": {
          "model_module": "@jupyter-widgets/base",
          "model_name": "LayoutModel",
          "state": {
            "_view_name": "LayoutView",
            "grid_template_rows": null,
            "right": null,
            "justify_content": null,
            "_view_module": "@jupyter-widgets/base",
            "overflow": null,
            "_model_module_version": "1.2.0",
            "_view_count": null,
            "flex_flow": null,
            "width": null,
            "min_width": null,
            "border": null,
            "align_items": null,
            "bottom": null,
            "_model_module": "@jupyter-widgets/base",
            "top": null,
            "grid_column": null,
            "overflow_y": null,
            "overflow_x": null,
            "grid_auto_flow": null,
            "grid_area": null,
            "grid_template_columns": null,
            "flex": null,
            "_model_name": "LayoutModel",
            "justify_items": null,
            "grid_row": null,
            "max_height": null,
            "align_content": null,
            "visibility": null,
            "align_self": null,
            "height": null,
            "min_height": null,
            "padding": null,
            "grid_auto_rows": null,
            "grid_gap": null,
            "max_width": null,
            "order": null,
            "_view_module_version": "1.2.0",
            "grid_template_areas": null,
            "object_position": null,
            "object_fit": null,
            "grid_auto_columns": null,
            "margin": null,
            "display": null,
            "left": null
          }
        },
        "d1264de641584a729be68a3222971d42": {
          "model_module": "@jupyter-widgets/controls",
          "model_name": "HBoxModel",
          "state": {
            "_view_name": "HBoxView",
            "_dom_classes": [],
            "_model_name": "HBoxModel",
            "_view_module": "@jupyter-widgets/controls",
            "_model_module_version": "1.5.0",
            "_view_count": null,
            "_view_module_version": "1.5.0",
            "box_style": "",
            "layout": "IPY_MODEL_103bd0faad5f4d95aa8ad5e7e1af4acb",
            "_model_module": "@jupyter-widgets/controls",
            "children": [
              "IPY_MODEL_58ee77d242a34dfea3780afc237f8074",
              "IPY_MODEL_600c0aac68834000ba7a4124a7f4013a"
            ]
          }
        },
        "103bd0faad5f4d95aa8ad5e7e1af4acb": {
          "model_module": "@jupyter-widgets/base",
          "model_name": "LayoutModel",
          "state": {
            "_view_name": "LayoutView",
            "grid_template_rows": null,
            "right": null,
            "justify_content": null,
            "_view_module": "@jupyter-widgets/base",
            "overflow": null,
            "_model_module_version": "1.2.0",
            "_view_count": null,
            "flex_flow": null,
            "width": null,
            "min_width": null,
            "border": null,
            "align_items": null,
            "bottom": null,
            "_model_module": "@jupyter-widgets/base",
            "top": null,
            "grid_column": null,
            "overflow_y": null,
            "overflow_x": null,
            "grid_auto_flow": null,
            "grid_area": null,
            "grid_template_columns": null,
            "flex": null,
            "_model_name": "LayoutModel",
            "justify_items": null,
            "grid_row": null,
            "max_height": null,
            "align_content": null,
            "visibility": null,
            "align_self": null,
            "height": null,
            "min_height": null,
            "padding": null,
            "grid_auto_rows": null,
            "grid_gap": null,
            "max_width": null,
            "order": null,
            "_view_module_version": "1.2.0",
            "grid_template_areas": null,
            "object_position": null,
            "object_fit": null,
            "grid_auto_columns": null,
            "margin": null,
            "display": null,
            "left": null
          }
        },
        "58ee77d242a34dfea3780afc237f8074": {
          "model_module": "@jupyter-widgets/controls",
          "model_name": "FloatProgressModel",
          "state": {
            "_view_name": "ProgressView",
            "style": "IPY_MODEL_42de68de5ebd4427ba321ecaacb7443e",
            "_dom_classes": [],
            "description": "Downloading: 100%",
            "_model_name": "FloatProgressModel",
            "bar_style": "success",
            "max": 548118077,
            "_view_module": "@jupyter-widgets/controls",
            "_model_module_version": "1.5.0",
            "value": 548118077,
            "_view_count": null,
            "_view_module_version": "1.5.0",
            "orientation": "horizontal",
            "min": 0,
            "description_tooltip": null,
            "_model_module": "@jupyter-widgets/controls",
            "layout": "IPY_MODEL_d092d8fd27f14e338577735d6a2247c9"
          }
        },
        "600c0aac68834000ba7a4124a7f4013a": {
          "model_module": "@jupyter-widgets/controls",
          "model_name": "HTMLModel",
          "state": {
            "_view_name": "HTMLView",
            "style": "IPY_MODEL_518b51f1247b4e0a86c8f3585a795aab",
            "_dom_classes": [],
            "description": "",
            "_model_name": "HTMLModel",
            "placeholder": "​",
            "_view_module": "@jupyter-widgets/controls",
            "_model_module_version": "1.5.0",
            "value": " 548M/548M [00:13&lt;00:00, 41.1MB/s]",
            "_view_count": null,
            "_view_module_version": "1.5.0",
            "description_tooltip": null,
            "_model_module": "@jupyter-widgets/controls",
            "layout": "IPY_MODEL_0c73ea093bea4209a722b521e3f8a758"
          }
        },
        "42de68de5ebd4427ba321ecaacb7443e": {
          "model_module": "@jupyter-widgets/controls",
          "model_name": "ProgressStyleModel",
          "state": {
            "_view_name": "StyleView",
            "_model_name": "ProgressStyleModel",
            "description_width": "initial",
            "_view_module": "@jupyter-widgets/base",
            "_model_module_version": "1.5.0",
            "_view_count": null,
            "_view_module_version": "1.2.0",
            "bar_color": null,
            "_model_module": "@jupyter-widgets/controls"
          }
        },
        "d092d8fd27f14e338577735d6a2247c9": {
          "model_module": "@jupyter-widgets/base",
          "model_name": "LayoutModel",
          "state": {
            "_view_name": "LayoutView",
            "grid_template_rows": null,
            "right": null,
            "justify_content": null,
            "_view_module": "@jupyter-widgets/base",
            "overflow": null,
            "_model_module_version": "1.2.0",
            "_view_count": null,
            "flex_flow": null,
            "width": null,
            "min_width": null,
            "border": null,
            "align_items": null,
            "bottom": null,
            "_model_module": "@jupyter-widgets/base",
            "top": null,
            "grid_column": null,
            "overflow_y": null,
            "overflow_x": null,
            "grid_auto_flow": null,
            "grid_area": null,
            "grid_template_columns": null,
            "flex": null,
            "_model_name": "LayoutModel",
            "justify_items": null,
            "grid_row": null,
            "max_height": null,
            "align_content": null,
            "visibility": null,
            "align_self": null,
            "height": null,
            "min_height": null,
            "padding": null,
            "grid_auto_rows": null,
            "grid_gap": null,
            "max_width": null,
            "order": null,
            "_view_module_version": "1.2.0",
            "grid_template_areas": null,
            "object_position": null,
            "object_fit": null,
            "grid_auto_columns": null,
            "margin": null,
            "display": null,
            "left": null
          }
        },
        "518b51f1247b4e0a86c8f3585a795aab": {
          "model_module": "@jupyter-widgets/controls",
          "model_name": "DescriptionStyleModel",
          "state": {
            "_view_name": "StyleView",
            "_model_name": "DescriptionStyleModel",
            "description_width": "",
            "_view_module": "@jupyter-widgets/base",
            "_model_module_version": "1.5.0",
            "_view_count": null,
            "_view_module_version": "1.2.0",
            "_model_module": "@jupyter-widgets/controls"
          }
        },
        "0c73ea093bea4209a722b521e3f8a758": {
          "model_module": "@jupyter-widgets/base",
          "model_name": "LayoutModel",
          "state": {
            "_view_name": "LayoutView",
            "grid_template_rows": null,
            "right": null,
            "justify_content": null,
            "_view_module": "@jupyter-widgets/base",
            "overflow": null,
            "_model_module_version": "1.2.0",
            "_view_count": null,
            "flex_flow": null,
            "width": null,
            "min_width": null,
            "border": null,
            "align_items": null,
            "bottom": null,
            "_model_module": "@jupyter-widgets/base",
            "top": null,
            "grid_column": null,
            "overflow_y": null,
            "overflow_x": null,
            "grid_auto_flow": null,
            "grid_area": null,
            "grid_template_columns": null,
            "flex": null,
            "_model_name": "LayoutModel",
            "justify_items": null,
            "grid_row": null,
            "max_height": null,
            "align_content": null,
            "visibility": null,
            "align_self": null,
            "height": null,
            "min_height": null,
            "padding": null,
            "grid_auto_rows": null,
            "grid_gap": null,
            "max_width": null,
            "order": null,
            "_view_module_version": "1.2.0",
            "grid_template_areas": null,
            "object_position": null,
            "object_fit": null,
            "grid_auto_columns": null,
            "margin": null,
            "display": null,
            "left": null
          }
        },
        "96dfe213a49a45f89812f15ed74015c8": {
          "model_module": "@jupyter-widgets/controls",
          "model_name": "HBoxModel",
          "state": {
            "_view_name": "HBoxView",
            "_dom_classes": [],
            "_model_name": "HBoxModel",
            "_view_module": "@jupyter-widgets/controls",
            "_model_module_version": "1.5.0",
            "_view_count": null,
            "_view_module_version": "1.5.0",
            "box_style": "",
            "layout": "IPY_MODEL_0d891d61a3754f8d82b70122401b6809",
            "_model_module": "@jupyter-widgets/controls",
            "children": [
              "IPY_MODEL_753b17a6de20441d9b1a634c25f28ee5",
              "IPY_MODEL_bae466ebc2ad443b903ef34b9cb3ba2b"
            ]
          }
        },
        "0d891d61a3754f8d82b70122401b6809": {
          "model_module": "@jupyter-widgets/base",
          "model_name": "LayoutModel",
          "state": {
            "_view_name": "LayoutView",
            "grid_template_rows": null,
            "right": null,
            "justify_content": null,
            "_view_module": "@jupyter-widgets/base",
            "overflow": null,
            "_model_module_version": "1.2.0",
            "_view_count": null,
            "flex_flow": null,
            "width": null,
            "min_width": null,
            "border": null,
            "align_items": null,
            "bottom": null,
            "_model_module": "@jupyter-widgets/base",
            "top": null,
            "grid_column": null,
            "overflow_y": null,
            "overflow_x": null,
            "grid_auto_flow": null,
            "grid_area": null,
            "grid_template_columns": null,
            "flex": null,
            "_model_name": "LayoutModel",
            "justify_items": null,
            "grid_row": null,
            "max_height": null,
            "align_content": null,
            "visibility": null,
            "align_self": null,
            "height": null,
            "min_height": null,
            "padding": null,
            "grid_auto_rows": null,
            "grid_gap": null,
            "max_width": null,
            "order": null,
            "_view_module_version": "1.2.0",
            "grid_template_areas": null,
            "object_position": null,
            "object_fit": null,
            "grid_auto_columns": null,
            "margin": null,
            "display": null,
            "left": null
          }
        },
        "753b17a6de20441d9b1a634c25f28ee5": {
          "model_module": "@jupyter-widgets/controls",
          "model_name": "FloatProgressModel",
          "state": {
            "_view_name": "ProgressView",
            "style": "IPY_MODEL_911f77fa50374b45bd15383fee0c88f0",
            "_dom_classes": [],
            "description": "Downloading: 100%",
            "_model_name": "FloatProgressModel",
            "bar_style": "success",
            "max": 1042301,
            "_view_module": "@jupyter-widgets/controls",
            "_model_module_version": "1.5.0",
            "value": 1042301,
            "_view_count": null,
            "_view_module_version": "1.5.0",
            "orientation": "horizontal",
            "min": 0,
            "description_tooltip": null,
            "_model_module": "@jupyter-widgets/controls",
            "layout": "IPY_MODEL_08c0fa2ac328403d9a037380cf17deaf"
          }
        },
        "bae466ebc2ad443b903ef34b9cb3ba2b": {
          "model_module": "@jupyter-widgets/controls",
          "model_name": "HTMLModel",
          "state": {
            "_view_name": "HTMLView",
            "style": "IPY_MODEL_041f20a4a92549ddb174fa393bfcf5ba",
            "_dom_classes": [],
            "description": "",
            "_model_name": "HTMLModel",
            "placeholder": "​",
            "_view_module": "@jupyter-widgets/controls",
            "_model_module_version": "1.5.0",
            "value": " 1.04M/1.04M [00:00&lt;00:00, 4.11MB/s]",
            "_view_count": null,
            "_view_module_version": "1.5.0",
            "description_tooltip": null,
            "_model_module": "@jupyter-widgets/controls",
            "layout": "IPY_MODEL_fc26de91ab594a51bbe38413c5a8b723"
          }
        },
        "911f77fa50374b45bd15383fee0c88f0": {
          "model_module": "@jupyter-widgets/controls",
          "model_name": "ProgressStyleModel",
          "state": {
            "_view_name": "StyleView",
            "_model_name": "ProgressStyleModel",
            "description_width": "initial",
            "_view_module": "@jupyter-widgets/base",
            "_model_module_version": "1.5.0",
            "_view_count": null,
            "_view_module_version": "1.2.0",
            "bar_color": null,
            "_model_module": "@jupyter-widgets/controls"
          }
        },
        "08c0fa2ac328403d9a037380cf17deaf": {
          "model_module": "@jupyter-widgets/base",
          "model_name": "LayoutModel",
          "state": {
            "_view_name": "LayoutView",
            "grid_template_rows": null,
            "right": null,
            "justify_content": null,
            "_view_module": "@jupyter-widgets/base",
            "overflow": null,
            "_model_module_version": "1.2.0",
            "_view_count": null,
            "flex_flow": null,
            "width": null,
            "min_width": null,
            "border": null,
            "align_items": null,
            "bottom": null,
            "_model_module": "@jupyter-widgets/base",
            "top": null,
            "grid_column": null,
            "overflow_y": null,
            "overflow_x": null,
            "grid_auto_flow": null,
            "grid_area": null,
            "grid_template_columns": null,
            "flex": null,
            "_model_name": "LayoutModel",
            "justify_items": null,
            "grid_row": null,
            "max_height": null,
            "align_content": null,
            "visibility": null,
            "align_self": null,
            "height": null,
            "min_height": null,
            "padding": null,
            "grid_auto_rows": null,
            "grid_gap": null,
            "max_width": null,
            "order": null,
            "_view_module_version": "1.2.0",
            "grid_template_areas": null,
            "object_position": null,
            "object_fit": null,
            "grid_auto_columns": null,
            "margin": null,
            "display": null,
            "left": null
          }
        },
        "041f20a4a92549ddb174fa393bfcf5ba": {
          "model_module": "@jupyter-widgets/controls",
          "model_name": "DescriptionStyleModel",
          "state": {
            "_view_name": "StyleView",
            "_model_name": "DescriptionStyleModel",
            "description_width": "",
            "_view_module": "@jupyter-widgets/base",
            "_model_module_version": "1.5.0",
            "_view_count": null,
            "_view_module_version": "1.2.0",
            "_model_module": "@jupyter-widgets/controls"
          }
        },
        "fc26de91ab594a51bbe38413c5a8b723": {
          "model_module": "@jupyter-widgets/base",
          "model_name": "LayoutModel",
          "state": {
            "_view_name": "LayoutView",
            "grid_template_rows": null,
            "right": null,
            "justify_content": null,
            "_view_module": "@jupyter-widgets/base",
            "overflow": null,
            "_model_module_version": "1.2.0",
            "_view_count": null,
            "flex_flow": null,
            "width": null,
            "min_width": null,
            "border": null,
            "align_items": null,
            "bottom": null,
            "_model_module": "@jupyter-widgets/base",
            "top": null,
            "grid_column": null,
            "overflow_y": null,
            "overflow_x": null,
            "grid_auto_flow": null,
            "grid_area": null,
            "grid_template_columns": null,
            "flex": null,
            "_model_name": "LayoutModel",
            "justify_items": null,
            "grid_row": null,
            "max_height": null,
            "align_content": null,
            "visibility": null,
            "align_self": null,
            "height": null,
            "min_height": null,
            "padding": null,
            "grid_auto_rows": null,
            "grid_gap": null,
            "max_width": null,
            "order": null,
            "_view_module_version": "1.2.0",
            "grid_template_areas": null,
            "object_position": null,
            "object_fit": null,
            "grid_auto_columns": null,
            "margin": null,
            "display": null,
            "left": null
          }
        },
        "b76383fde255418dae62c22dffdecb02": {
          "model_module": "@jupyter-widgets/controls",
          "model_name": "HBoxModel",
          "state": {
            "_view_name": "HBoxView",
            "_dom_classes": [],
            "_model_name": "HBoxModel",
            "_view_module": "@jupyter-widgets/controls",
            "_model_module_version": "1.5.0",
            "_view_count": null,
            "_view_module_version": "1.5.0",
            "box_style": "",
            "layout": "IPY_MODEL_052d18cba9dd419d898411744513afd1",
            "_model_module": "@jupyter-widgets/controls",
            "children": [
              "IPY_MODEL_4e98309a6c004c91849347719a987b2b",
              "IPY_MODEL_52313b83f8e846a796490261fc08184d"
            ]
          }
        },
        "052d18cba9dd419d898411744513afd1": {
          "model_module": "@jupyter-widgets/base",
          "model_name": "LayoutModel",
          "state": {
            "_view_name": "LayoutView",
            "grid_template_rows": null,
            "right": null,
            "justify_content": null,
            "_view_module": "@jupyter-widgets/base",
            "overflow": null,
            "_model_module_version": "1.2.0",
            "_view_count": null,
            "flex_flow": null,
            "width": null,
            "min_width": null,
            "border": null,
            "align_items": null,
            "bottom": null,
            "_model_module": "@jupyter-widgets/base",
            "top": null,
            "grid_column": null,
            "overflow_y": null,
            "overflow_x": null,
            "grid_auto_flow": null,
            "grid_area": null,
            "grid_template_columns": null,
            "flex": null,
            "_model_name": "LayoutModel",
            "justify_items": null,
            "grid_row": null,
            "max_height": null,
            "align_content": null,
            "visibility": null,
            "align_self": null,
            "height": null,
            "min_height": null,
            "padding": null,
            "grid_auto_rows": null,
            "grid_gap": null,
            "max_width": null,
            "order": null,
            "_view_module_version": "1.2.0",
            "grid_template_areas": null,
            "object_position": null,
            "object_fit": null,
            "grid_auto_columns": null,
            "margin": null,
            "display": null,
            "left": null
          }
        },
        "4e98309a6c004c91849347719a987b2b": {
          "model_module": "@jupyter-widgets/controls",
          "model_name": "FloatProgressModel",
          "state": {
            "_view_name": "ProgressView",
            "style": "IPY_MODEL_28f3ff121d7f4cbe813f5d82f9f9a658",
            "_dom_classes": [],
            "description": "Downloading: 100%",
            "_model_name": "FloatProgressModel",
            "bar_style": "success",
            "max": 456318,
            "_view_module": "@jupyter-widgets/controls",
            "_model_module_version": "1.5.0",
            "value": 456318,
            "_view_count": null,
            "_view_module_version": "1.5.0",
            "orientation": "horizontal",
            "min": 0,
            "description_tooltip": null,
            "_model_module": "@jupyter-widgets/controls",
            "layout": "IPY_MODEL_f76d39b589584e469d903b4cf0bc394f"
          }
        },
        "52313b83f8e846a796490261fc08184d": {
          "model_module": "@jupyter-widgets/controls",
          "model_name": "HTMLModel",
          "state": {
            "_view_name": "HTMLView",
            "style": "IPY_MODEL_3e25eb95fc30430ba8ed97359cff02cc",
            "_dom_classes": [],
            "description": "",
            "_model_name": "HTMLModel",
            "placeholder": "​",
            "_view_module": "@jupyter-widgets/controls",
            "_model_module_version": "1.5.0",
            "value": " 456k/456k [00:00&lt;00:00, 3.93MB/s]",
            "_view_count": null,
            "_view_module_version": "1.5.0",
            "description_tooltip": null,
            "_model_module": "@jupyter-widgets/controls",
            "layout": "IPY_MODEL_3119c490fd8244a3bbb3b0cac9705c4e"
          }
        },
        "28f3ff121d7f4cbe813f5d82f9f9a658": {
          "model_module": "@jupyter-widgets/controls",
          "model_name": "ProgressStyleModel",
          "state": {
            "_view_name": "StyleView",
            "_model_name": "ProgressStyleModel",
            "description_width": "initial",
            "_view_module": "@jupyter-widgets/base",
            "_model_module_version": "1.5.0",
            "_view_count": null,
            "_view_module_version": "1.2.0",
            "bar_color": null,
            "_model_module": "@jupyter-widgets/controls"
          }
        },
        "f76d39b589584e469d903b4cf0bc394f": {
          "model_module": "@jupyter-widgets/base",
          "model_name": "LayoutModel",
          "state": {
            "_view_name": "LayoutView",
            "grid_template_rows": null,
            "right": null,
            "justify_content": null,
            "_view_module": "@jupyter-widgets/base",
            "overflow": null,
            "_model_module_version": "1.2.0",
            "_view_count": null,
            "flex_flow": null,
            "width": null,
            "min_width": null,
            "border": null,
            "align_items": null,
            "bottom": null,
            "_model_module": "@jupyter-widgets/base",
            "top": null,
            "grid_column": null,
            "overflow_y": null,
            "overflow_x": null,
            "grid_auto_flow": null,
            "grid_area": null,
            "grid_template_columns": null,
            "flex": null,
            "_model_name": "LayoutModel",
            "justify_items": null,
            "grid_row": null,
            "max_height": null,
            "align_content": null,
            "visibility": null,
            "align_self": null,
            "height": null,
            "min_height": null,
            "padding": null,
            "grid_auto_rows": null,
            "grid_gap": null,
            "max_width": null,
            "order": null,
            "_view_module_version": "1.2.0",
            "grid_template_areas": null,
            "object_position": null,
            "object_fit": null,
            "grid_auto_columns": null,
            "margin": null,
            "display": null,
            "left": null
          }
        },
        "3e25eb95fc30430ba8ed97359cff02cc": {
          "model_module": "@jupyter-widgets/controls",
          "model_name": "DescriptionStyleModel",
          "state": {
            "_view_name": "StyleView",
            "_model_name": "DescriptionStyleModel",
            "description_width": "",
            "_view_module": "@jupyter-widgets/base",
            "_model_module_version": "1.5.0",
            "_view_count": null,
            "_view_module_version": "1.2.0",
            "_model_module": "@jupyter-widgets/controls"
          }
        },
        "3119c490fd8244a3bbb3b0cac9705c4e": {
          "model_module": "@jupyter-widgets/base",
          "model_name": "LayoutModel",
          "state": {
            "_view_name": "LayoutView",
            "grid_template_rows": null,
            "right": null,
            "justify_content": null,
            "_view_module": "@jupyter-widgets/base",
            "overflow": null,
            "_model_module_version": "1.2.0",
            "_view_count": null,
            "flex_flow": null,
            "width": null,
            "min_width": null,
            "border": null,
            "align_items": null,
            "bottom": null,
            "_model_module": "@jupyter-widgets/base",
            "top": null,
            "grid_column": null,
            "overflow_y": null,
            "overflow_x": null,
            "grid_auto_flow": null,
            "grid_area": null,
            "grid_template_columns": null,
            "flex": null,
            "_model_name": "LayoutModel",
            "justify_items": null,
            "grid_row": null,
            "max_height": null,
            "align_content": null,
            "visibility": null,
            "align_self": null,
            "height": null,
            "min_height": null,
            "padding": null,
            "grid_auto_rows": null,
            "grid_gap": null,
            "max_width": null,
            "order": null,
            "_view_module_version": "1.2.0",
            "grid_template_areas": null,
            "object_position": null,
            "object_fit": null,
            "grid_auto_columns": null,
            "margin": null,
            "display": null,
            "left": null
          }
        }
      }
    }
  },
  "cells": [
    {
      "cell_type": "markdown",
      "metadata": {
        "id": "view-in-github",
        "colab_type": "text"
      },
      "source": [
        "<a href=\"https://colab.research.google.com/github/paolofantozzi/codemotion2020/blob/main/Beatles_scraping_and_training.ipynb\" target=\"_parent\"><img src=\"https://colab.research.google.com/assets/colab-badge.svg\" alt=\"Open In Colab\"/></a>"
      ]
    },
    {
      "cell_type": "code",
      "metadata": {
        "id": "QZn70U2NUJgj",
        "outputId": "da42b7a5-b09d-46dd-8737-f32059dd14bd",
        "colab": {
          "base_uri": "https://localhost:8080/"
        }
      },
      "source": [
        "from google.colab import drive\n",
        "drive.mount('drive')"
      ],
      "execution_count": 1,
      "outputs": [
        {
          "output_type": "stream",
          "text": [
            "Mounted at drive\n"
          ],
          "name": "stdout"
        }
      ]
    },
    {
      "cell_type": "code",
      "metadata": {
        "id": "yokj8iOTTyIN"
      },
      "source": [
        "from pathlib import Path\n",
        "project_path = Path('drive/My Drive/colab_data/beatles')"
      ],
      "execution_count": 2,
      "outputs": []
    },
    {
      "cell_type": "code",
      "metadata": {
        "id": "GTR5W8qwQtIy",
        "outputId": "4108d892-412e-4773-ed32-11d0db5f39ff",
        "colab": {
          "base_uri": "https://localhost:8080/"
        }
      },
      "source": [
        "!pip install lyricsgenius"
      ],
      "execution_count": 3,
      "outputs": [
        {
          "output_type": "stream",
          "text": [
            "Collecting lyricsgenius\n",
            "\u001b[?25l  Downloading https://files.pythonhosted.org/packages/41/c1/b7d56971a43e430214727daf774623d8edd0c13fe7bac1f484d0934af29b/lyricsgenius-2.0.2-py3-none-any.whl (46kB)\n",
            "\r\u001b[K     |███████▏                        | 10kB 21.7MB/s eta 0:00:01\r\u001b[K     |██████████████▎                 | 20kB 24.9MB/s eta 0:00:01\r\u001b[K     |█████████████████████▍          | 30kB 13.3MB/s eta 0:00:01\r\u001b[K     |████████████████████████████▌   | 40kB 11.6MB/s eta 0:00:01\r\u001b[K     |████████████████████████████████| 51kB 5.5MB/s \n",
            "\u001b[?25hRequirement already satisfied: requests>=2.20.0 in /usr/local/lib/python3.6/dist-packages (from lyricsgenius) (2.23.0)\n",
            "Requirement already satisfied: beautifulsoup4>=4.6.0 in /usr/local/lib/python3.6/dist-packages (from lyricsgenius) (4.6.3)\n",
            "Requirement already satisfied: idna<3,>=2.5 in /usr/local/lib/python3.6/dist-packages (from requests>=2.20.0->lyricsgenius) (2.10)\n",
            "Requirement already satisfied: chardet<4,>=3.0.2 in /usr/local/lib/python3.6/dist-packages (from requests>=2.20.0->lyricsgenius) (3.0.4)\n",
            "Requirement already satisfied: urllib3!=1.25.0,!=1.25.1,<1.26,>=1.21.1 in /usr/local/lib/python3.6/dist-packages (from requests>=2.20.0->lyricsgenius) (1.24.3)\n",
            "Requirement already satisfied: certifi>=2017.4.17 in /usr/local/lib/python3.6/dist-packages (from requests>=2.20.0->lyricsgenius) (2020.6.20)\n",
            "Installing collected packages: lyricsgenius\n",
            "Successfully installed lyricsgenius-2.0.2\n"
          ],
          "name": "stdout"
        }
      ]
    },
    {
      "cell_type": "code",
      "metadata": {
        "id": "XLtLHiooQ25f"
      },
      "source": [
        "import lyricsgenius\n",
        "\n",
        "genius = lyricsgenius.Genius('viAbQje3x3nPl-ReFJMT_s10V00XIHmhcGLtiqn73kSGh0ruipkg60_dyLf6ibfc')\n",
        "genius.skip_non_songs = True\n",
        "genius.excluded_terms = ['(Remix)', '(Live)', '(Take)', '(Version)', '(Mix)', '(Demo)']\n",
        "\n",
        "lyrics_path = project_path / 'Lyrics_TheBeatles.json'\n",
        "if not lyrics_path.exists():\n",
        "  artist = genius.search_artist('Beatles', sort='title')\n",
        "  artist.save_lyrics(filename=str(lyrics_path))"
      ],
      "execution_count": 4,
      "outputs": []
    },
    {
      "cell_type": "code",
      "metadata": {
        "id": "lu-Oc7-oA9GK",
        "outputId": "b880687c-bd1f-4a1b-849d-a0a2e567c038",
        "colab": {
          "base_uri": "https://localhost:8080/"
        }
      },
      "source": [
        "import json\n",
        "\n",
        "def is_lyric(text):\n",
        "  if not text:\n",
        "    return False\n",
        "  if '[Verse' not in text and '[Chorus]' not in text:\n",
        "    return False\n",
        "  return True\n",
        "\n",
        "with open(lyrics_path, 'r') as lyrics_file:\n",
        "  artist = json.load(lyrics_file)\n",
        "  lyrics = [{'title': s['title'], 'lyrics': s['lyrics']} for s in artist['songs'] if is_lyric(s['lyrics'])]\n",
        "\n",
        "discarded = len(artist['songs']) - len(lyrics)\n",
        "print(f'Discarded {discarded}')\n",
        "print(f'Keeped {len(lyrics)}')\n"
      ],
      "execution_count": 5,
      "outputs": [
        {
          "output_type": "stream",
          "text": [
            "Discarded 136\n",
            "Keeped 268\n"
          ],
          "name": "stdout"
        }
      ]
    },
    {
      "cell_type": "code",
      "metadata": {
        "id": "HvCBWJjReVs6"
      },
      "source": [
        "def pre_process_song(song):\n",
        "  song_title = song['title']\n",
        "  song_lyrics = song['lyrics']\n",
        "  return f'<s_song>\\n{song_title}\\n[Lyrics]\\n{song_lyrics}\\n<e_song>\\n'"
      ],
      "execution_count": 6,
      "outputs": []
    },
    {
      "cell_type": "code",
      "metadata": {
        "id": "AZLprYor6YL4",
        "outputId": "d713cef3-a785-4685-fb48-442039e7e67d",
        "colab": {
          "base_uri": "https://localhost:8080/"
        }
      },
      "source": [
        "from sklearn.model_selection import train_test_split\n",
        "\n",
        "all_data = [pre_process_song(song) for song in lyrics]\n",
        "train_data_str, test_data_str = train_test_split(all_data, test_size=0.2)\n",
        "\n",
        "print(f'Train size: {len(train_data_str)}')\n",
        "print(f'Test size: {len(test_data_str)}')"
      ],
      "execution_count": 7,
      "outputs": [
        {
          "output_type": "stream",
          "text": [
            "Train size: 214\n",
            "Test size: 54\n"
          ],
          "name": "stdout"
        }
      ]
    },
    {
      "cell_type": "code",
      "metadata": {
        "id": "EYlclOJR79rN"
      },
      "source": [
        "train_path = project_path / 'train_data.txt'\n",
        "with open(train_path, 'w') as train_data_file:\n",
        "  train_data_file.writelines(f'{line}\\n' for line in train_data_str)\n",
        "\n",
        "test_path = project_path / 'test_data.txt'\n",
        "with open(test_path, 'w') as test_data_file:\n",
        "  test_data_file.writelines(f'{line}\\n' for line in test_data_str)"
      ],
      "execution_count": 8,
      "outputs": []
    },
    {
      "cell_type": "code",
      "metadata": {
        "id": "xYFK_lA8Nhgs",
        "outputId": "e1d99281-753d-4e74-d5e1-e0c114282625",
        "colab": {
          "base_uri": "https://localhost:8080/"
        }
      },
      "source": [
        "!pip install transformers"
      ],
      "execution_count": 9,
      "outputs": [
        {
          "output_type": "stream",
          "text": [
            "Collecting transformers\n",
            "\u001b[?25l  Downloading https://files.pythonhosted.org/packages/2c/4e/4f1ede0fd7a36278844a277f8d53c21f88f37f3754abf76a5d6224f76d4a/transformers-3.4.0-py3-none-any.whl (1.3MB)\n",
            "\u001b[K     |████████████████████████████████| 1.3MB 11.3MB/s \n",
            "\u001b[?25hCollecting sentencepiece!=0.1.92\n",
            "\u001b[?25l  Downloading https://files.pythonhosted.org/packages/e5/2d/6d4ca4bef9a67070fa1cac508606328329152b1df10bdf31fb6e4e727894/sentencepiece-0.1.94-cp36-cp36m-manylinux2014_x86_64.whl (1.1MB)\n",
            "\u001b[K     |████████████████████████████████| 1.1MB 49.7MB/s \n",
            "\u001b[?25hCollecting tokenizers==0.9.2\n",
            "\u001b[?25l  Downloading https://files.pythonhosted.org/packages/7c/a5/78be1a55b2ac8d6a956f0a211d372726e2b1dd2666bb537fea9b03abd62c/tokenizers-0.9.2-cp36-cp36m-manylinux1_x86_64.whl (2.9MB)\n",
            "\u001b[K     |████████████████████████████████| 2.9MB 52.3MB/s \n",
            "\u001b[?25hCollecting sacremoses\n",
            "\u001b[?25l  Downloading https://files.pythonhosted.org/packages/7d/34/09d19aff26edcc8eb2a01bed8e98f13a1537005d31e95233fd48216eed10/sacremoses-0.0.43.tar.gz (883kB)\n",
            "\u001b[K     |████████████████████████████████| 890kB 48.8MB/s \n",
            "\u001b[?25hRequirement already satisfied: dataclasses; python_version < \"3.7\" in /usr/local/lib/python3.6/dist-packages (from transformers) (0.7)\n",
            "Requirement already satisfied: tqdm>=4.27 in /usr/local/lib/python3.6/dist-packages (from transformers) (4.41.1)\n",
            "Requirement already satisfied: requests in /usr/local/lib/python3.6/dist-packages (from transformers) (2.23.0)\n",
            "Requirement already satisfied: filelock in /usr/local/lib/python3.6/dist-packages (from transformers) (3.0.12)\n",
            "Requirement already satisfied: packaging in /usr/local/lib/python3.6/dist-packages (from transformers) (20.4)\n",
            "Requirement already satisfied: numpy in /usr/local/lib/python3.6/dist-packages (from transformers) (1.18.5)\n",
            "Requirement already satisfied: regex!=2019.12.17 in /usr/local/lib/python3.6/dist-packages (from transformers) (2019.12.20)\n",
            "Requirement already satisfied: protobuf in /usr/local/lib/python3.6/dist-packages (from transformers) (3.12.4)\n",
            "Requirement already satisfied: six in /usr/local/lib/python3.6/dist-packages (from sacremoses->transformers) (1.15.0)\n",
            "Requirement already satisfied: click in /usr/local/lib/python3.6/dist-packages (from sacremoses->transformers) (7.1.2)\n",
            "Requirement already satisfied: joblib in /usr/local/lib/python3.6/dist-packages (from sacremoses->transformers) (0.17.0)\n",
            "Requirement already satisfied: idna<3,>=2.5 in /usr/local/lib/python3.6/dist-packages (from requests->transformers) (2.10)\n",
            "Requirement already satisfied: chardet<4,>=3.0.2 in /usr/local/lib/python3.6/dist-packages (from requests->transformers) (3.0.4)\n",
            "Requirement already satisfied: urllib3!=1.25.0,!=1.25.1,<1.26,>=1.21.1 in /usr/local/lib/python3.6/dist-packages (from requests->transformers) (1.24.3)\n",
            "Requirement already satisfied: certifi>=2017.4.17 in /usr/local/lib/python3.6/dist-packages (from requests->transformers) (2020.6.20)\n",
            "Requirement already satisfied: pyparsing>=2.0.2 in /usr/local/lib/python3.6/dist-packages (from packaging->transformers) (2.4.7)\n",
            "Requirement already satisfied: setuptools in /usr/local/lib/python3.6/dist-packages (from protobuf->transformers) (50.3.2)\n",
            "Building wheels for collected packages: sacremoses\n",
            "  Building wheel for sacremoses (setup.py) ... \u001b[?25l\u001b[?25hdone\n",
            "  Created wheel for sacremoses: filename=sacremoses-0.0.43-cp36-none-any.whl size=893257 sha256=4707d245f733b9b1946af80f33f24379e45191cd286782ea97f14154dc408d17\n",
            "  Stored in directory: /root/.cache/pip/wheels/29/3c/fd/7ce5c3f0666dab31a50123635e6fb5e19ceb42ce38d4e58f45\n",
            "Successfully built sacremoses\n",
            "Installing collected packages: sentencepiece, tokenizers, sacremoses, transformers\n",
            "Successfully installed sacremoses-0.0.43 sentencepiece-0.1.94 tokenizers-0.9.2 transformers-3.4.0\n"
          ],
          "name": "stdout"
        }
      ]
    },
    {
      "cell_type": "code",
      "metadata": {
        "id": "8nWMhwB1Njrr",
        "outputId": "e7f8f03f-7dda-4745-c0d5-5fdffc2d1593",
        "colab": {
          "base_uri": "https://localhost:8080/",
          "height": 275,
          "referenced_widgets": [
            "8a430d76b4f4474fa1e9396c024a7d4c",
            "60b9ac5511d64d858eff3ea79b7bd304",
            "559ed45412ed433cbb7ec7e261a642d5",
            "d424860c24ac455b9f5358efad585fdb",
            "120a163d6650468c9a952a0c44dd65ac",
            "587e05f3c3e9485d90d08ac96f9f2ad3",
            "50f022488c6e492db7f551121873f4d7",
            "067f4e5c1682458da478005a667f2398",
            "d1264de641584a729be68a3222971d42",
            "103bd0faad5f4d95aa8ad5e7e1af4acb",
            "58ee77d242a34dfea3780afc237f8074",
            "600c0aac68834000ba7a4124a7f4013a",
            "42de68de5ebd4427ba321ecaacb7443e",
            "d092d8fd27f14e338577735d6a2247c9",
            "518b51f1247b4e0a86c8f3585a795aab",
            "0c73ea093bea4209a722b521e3f8a758",
            "96dfe213a49a45f89812f15ed74015c8",
            "0d891d61a3754f8d82b70122401b6809",
            "753b17a6de20441d9b1a634c25f28ee5",
            "bae466ebc2ad443b903ef34b9cb3ba2b",
            "911f77fa50374b45bd15383fee0c88f0",
            "08c0fa2ac328403d9a037380cf17deaf",
            "041f20a4a92549ddb174fa393bfcf5ba",
            "fc26de91ab594a51bbe38413c5a8b723",
            "b76383fde255418dae62c22dffdecb02",
            "052d18cba9dd419d898411744513afd1",
            "4e98309a6c004c91849347719a987b2b",
            "52313b83f8e846a796490261fc08184d",
            "28f3ff121d7f4cbe813f5d82f9f9a658",
            "f76d39b589584e469d903b4cf0bc394f",
            "3e25eb95fc30430ba8ed97359cff02cc",
            "3119c490fd8244a3bbb3b0cac9705c4e"
          ]
        }
      },
      "source": [
        "from transformers import AutoModelWithLMHead\n",
        "from transformers import AutoTokenizer\n",
        "\n",
        "MODEL_NAME = 'gpt2'\n",
        "model = AutoModelWithLMHead.from_pretrained(MODEL_NAME)\n",
        "tokenizer = AutoTokenizer.from_pretrained(MODEL_NAME)"
      ],
      "execution_count": 10,
      "outputs": [
        {
          "output_type": "stream",
          "text": [
            "/usr/local/lib/python3.6/dist-packages/transformers/modeling_auto.py:825: FutureWarning: The class `AutoModelWithLMHead` is deprecated and will be removed in a future version. Please use `AutoModelForCausalLM` for causal language models, `AutoModelForMaskedLM` for masked language models and `AutoModelForSeq2SeqLM` for encoder-decoder models.\n",
            "  FutureWarning,\n"
          ],
          "name": "stderr"
        },
        {
          "output_type": "display_data",
          "data": {
            "application/vnd.jupyter.widget-view+json": {
              "model_id": "8a430d76b4f4474fa1e9396c024a7d4c",
              "version_minor": 0,
              "version_major": 2
            },
            "text/plain": [
              "HBox(children=(FloatProgress(value=0.0, description='Downloading', max=665.0, style=ProgressStyle(description_…"
            ]
          },
          "metadata": {
            "tags": []
          }
        },
        {
          "output_type": "stream",
          "text": [
            "\n"
          ],
          "name": "stdout"
        },
        {
          "output_type": "display_data",
          "data": {
            "application/vnd.jupyter.widget-view+json": {
              "model_id": "d1264de641584a729be68a3222971d42",
              "version_minor": 0,
              "version_major": 2
            },
            "text/plain": [
              "HBox(children=(FloatProgress(value=0.0, description='Downloading', max=548118077.0, style=ProgressStyle(descri…"
            ]
          },
          "metadata": {
            "tags": []
          }
        },
        {
          "output_type": "stream",
          "text": [
            "\n"
          ],
          "name": "stdout"
        },
        {
          "output_type": "display_data",
          "data": {
            "application/vnd.jupyter.widget-view+json": {
              "model_id": "96dfe213a49a45f89812f15ed74015c8",
              "version_minor": 0,
              "version_major": 2
            },
            "text/plain": [
              "HBox(children=(FloatProgress(value=0.0, description='Downloading', max=1042301.0, style=ProgressStyle(descript…"
            ]
          },
          "metadata": {
            "tags": []
          }
        },
        {
          "output_type": "stream",
          "text": [
            "\n"
          ],
          "name": "stdout"
        },
        {
          "output_type": "display_data",
          "data": {
            "application/vnd.jupyter.widget-view+json": {
              "model_id": "b76383fde255418dae62c22dffdecb02",
              "version_minor": 0,
              "version_major": 2
            },
            "text/plain": [
              "HBox(children=(FloatProgress(value=0.0, description='Downloading', max=456318.0, style=ProgressStyle(descripti…"
            ]
          },
          "metadata": {
            "tags": []
          }
        },
        {
          "output_type": "stream",
          "text": [
            "\n"
          ],
          "name": "stdout"
        }
      ]
    },
    {
      "cell_type": "code",
      "metadata": {
        "id": "JQw9Xth56Ekw"
      },
      "source": [
        "from transformers import DataCollatorForLanguageModeling\n",
        "from transformers import TextDataset\n",
        "\n",
        "train_data = TextDataset(\n",
        "    tokenizer=tokenizer,\n",
        "    file_path=str(train_path),\n",
        "    block_size=128,\n",
        ")\n",
        "\n",
        "test_data = TextDataset(\n",
        "    tokenizer=tokenizer,\n",
        "    file_path=str(test_path),\n",
        "    block_size=128,\n",
        ")\n",
        "\n",
        "data_collator = DataCollatorForLanguageModeling(\n",
        "    tokenizer=tokenizer,\n",
        "    mlm=False,\n",
        ")"
      ],
      "execution_count": 11,
      "outputs": []
    },
    {
      "cell_type": "code",
      "metadata": {
        "id": "HLMD2-pC96BB",
        "outputId": "fa77b4e7-bcce-476a-a824-4ee972bdd577",
        "colab": {
          "base_uri": "https://localhost:8080/"
        }
      },
      "source": [
        "from transformers import Trainer\n",
        "from transformers import TrainingArguments\n",
        "\n",
        "model_path = Path('./gpt2-beatles')\n",
        "logs_path = Path('./logs')\n",
        "\n",
        "training_args = TrainingArguments(\n",
        "  output_dir=str(model_path),     # output directory\n",
        "  logging_dir=str(logs_path),     # logs directory\n",
        "  overwrite_output_dir=True,      # overwrite the content of the output directory\n",
        "  num_train_epochs=70,            # number of training epochs\n",
        "  per_device_train_batch_size=16, # batch size for training\n",
        "  per_device_eval_batch_size=32,  # batch size for evaluation\n",
        "  eval_steps=400,                 # number of update steps between two evaluations\n",
        "  save_steps=800,                 # after how many steps model is saved\n",
        "  warmup_steps=500,               # number of warmup steps for learning rate scheduler\n",
        ")\n",
        "\n",
        "trainer = Trainer(\n",
        "  model=model,\n",
        "  args=training_args,\n",
        "  data_collator=data_collator,\n",
        "  train_dataset=train_data,\n",
        "  eval_dataset=test_data,\n",
        "  prediction_loss_only=True,\n",
        ")"
      ],
      "execution_count": 12,
      "outputs": [
        {
          "output_type": "stream",
          "text": [
            "/usr/local/lib/python3.6/dist-packages/transformers/trainer.py:263: FutureWarning: Passing `prediction_loss_only` as a keyword argument is deprecated and won't be possible in a future version. Use `args.prediction_loss_only` instead. Setting `args.prediction_loss_only=True\n",
            "  FutureWarning,\n"
          ],
          "name": "stderr"
        }
      ]
    },
    {
      "cell_type": "code",
      "metadata": {
        "id": "y9Eajru8-4nN",
        "outputId": "19befae6-1e27-43c5-9c7a-060e286262ae",
        "colab": {
          "base_uri": "https://localhost:8080/",
          "height": 247
        }
      },
      "source": [
        "trainer.train()"
      ],
      "execution_count": 13,
      "outputs": [
        {
          "output_type": "display_data",
          "data": {
            "text/html": [
              "\n",
              "    <div>\n",
              "        <style>\n",
              "            /* Turns off some styling */\n",
              "            progress {\n",
              "                /* gets rid of default border in Firefox and Opera. */\n",
              "                border: none;\n",
              "                /* Needs to be in here for Safari polyfill so background images work as expected. */\n",
              "                background-size: auto;\n",
              "            }\n",
              "        </style>\n",
              "      \n",
              "      <progress value='2520' max='2520' style='width:300px; height:20px; vertical-align: middle;'></progress>\n",
              "      [2520/2520 25:40, Epoch 70/70]\n",
              "    </div>\n",
              "    <table border=\"1\" class=\"dataframe\">\n",
              "  <thead>\n",
              "    <tr style=\"text-align: left;\">\n",
              "      <th>Step</th>\n",
              "      <th>Training Loss</th>\n",
              "    </tr>\n",
              "  </thead>\n",
              "  <tbody>\n",
              "    <tr>\n",
              "      <td>500</td>\n",
              "      <td>2.166332</td>\n",
              "    </tr>\n",
              "    <tr>\n",
              "      <td>1000</td>\n",
              "      <td>0.956241</td>\n",
              "    </tr>\n",
              "    <tr>\n",
              "      <td>1500</td>\n",
              "      <td>0.357635</td>\n",
              "    </tr>\n",
              "    <tr>\n",
              "      <td>2000</td>\n",
              "      <td>0.188342</td>\n",
              "    </tr>\n",
              "    <tr>\n",
              "      <td>2500</td>\n",
              "      <td>0.138242</td>\n",
              "    </tr>\n",
              "  </tbody>\n",
              "</table><p>"
            ],
            "text/plain": [
              "<IPython.core.display.HTML object>"
            ]
          },
          "metadata": {
            "tags": []
          }
        },
        {
          "output_type": "execute_result",
          "data": {
            "text/plain": [
              "TrainOutput(global_step=2520, training_loss=0.7563310895647322)"
            ]
          },
          "metadata": {
            "tags": []
          },
          "execution_count": 13
        }
      ]
    },
    {
      "cell_type": "markdown",
      "metadata": {
        "id": "kHXMHQa3bqq6"
      },
      "source": [
        "\n",
        "\n",
        "```\n",
        "function ClickConnect(){document.querySelector(\"#comments\").click();}\n",
        "setInterval(ClickConnect,60000)\n",
        "```\n",
        "\n"
      ]
    },
    {
      "cell_type": "code",
      "metadata": {
        "id": "KzzI4I6H-6iH",
        "outputId": "bba9660e-f3cf-49cc-86d9-10c393d1bdcd",
        "colab": {
          "base_uri": "https://localhost:8080/",
          "height": 55
        }
      },
      "source": [
        "trainer.evaluate()"
      ],
      "execution_count": 14,
      "outputs": [
        {
          "output_type": "display_data",
          "data": {
            "text/html": [
              "\n",
              "    <div>\n",
              "        <style>\n",
              "            /* Turns off some styling */\n",
              "            progress {\n",
              "                /* gets rid of default border in Firefox and Opera. */\n",
              "                border: none;\n",
              "                /* Needs to be in here for Safari polyfill so background images work as expected. */\n",
              "                background-size: auto;\n",
              "            }\n",
              "        </style>\n",
              "      \n",
              "      <progress value='5' max='5' style='width:300px; height:20px; vertical-align: middle;'></progress>\n",
              "      [5/5 00:01]\n",
              "    </div>\n",
              "    "
            ],
            "text/plain": [
              "<IPython.core.display.HTML object>"
            ]
          },
          "metadata": {
            "tags": []
          }
        },
        {
          "output_type": "execute_result",
          "data": {
            "text/plain": [
              "{'epoch': 70.0, 'eval_loss': 4.07750940322876, 'total_flos': 3766404735959040}"
            ]
          },
          "metadata": {
            "tags": []
          },
          "execution_count": 14
        }
      ]
    },
    {
      "cell_type": "code",
      "metadata": {
        "id": "EWbM6POjJ9EU"
      },
      "source": [
        "trainer.save_model()"
      ],
      "execution_count": 15,
      "outputs": []
    },
    {
      "cell_type": "code",
      "metadata": {
        "id": "zo7Qrj1gsg_G"
      },
      "source": [
        "from transformers import pipeline\n",
        "\n",
        "def generate(title, temperature, top_k):\n",
        "  generator = pipeline('text-generation', model=str(model_path), tokenizer=tokenizer)\n",
        "  return generator(\n",
        "        f'<s_song>\\n{title}\\n[Lyrics]\\n',\n",
        "        max_length=10**3,\n",
        "        temperature=temperature,\n",
        "        top_k=top_k\n",
        "  )[0]['generated_text']"
      ],
      "execution_count": 23,
      "outputs": []
    },
    {
      "cell_type": "code",
      "metadata": {
        "id": "okiNHyAAtFB9",
        "outputId": "3c400d1a-9908-4079-dbe1-00f2be4af2e5",
        "colab": {
          "base_uri": "https://localhost:8080/"
        }
      },
      "source": [
        "print(generate('Love of my life', temperature=0.8, top_k=0))"
      ],
      "execution_count": 17,
      "outputs": [
        {
          "output_type": "stream",
          "text": [
            "Setting `pad_token_id` to 50256 (first `eos_token_id`) to generate sequence\n"
          ],
          "name": "stderr"
        },
        {
          "output_type": "stream",
          "text": [
            "<s_song>\n",
            "Love of my life\n",
            "[Lyrics]\n",
            "[Verse 1]\n",
            "Nothing can come between us\n",
            "When it gets dark I tow your heart away\n",
            "Never thought of act of love I've ever known\n",
            "\n",
            "[Chorus]\n",
            "For if my love had lasted a day\n",
            "We might have broken down\n",
            "If we'd seen each other before\n",
            "\n",
            "[Verse 2]\n",
            "I can't forget the time or place\n",
            "Where we just met, she's just the girl for me\n",
            "And I want all the world to see we've met\n",
            "Mmm-mmm-mmm-da-da\n",
            "\n",
            "[Chorus]\n",
            "Love of my life\n",
            "[Verse 3]\n",
            "Nothing can come between us\n",
            "When it gets dark I tow your heart away\n",
            "Never thought of act of love I've ever known\n",
            "\n",
            "[Chorus]\n",
            "For if my love had lasted a day\n",
            "We might have broken down\n",
            "If we'd seen each other before\n",
            "\n",
            "[Verse 4]\n",
            "I can't forget the time or place\n",
            "Where we just met, she's just the girl for me\n",
            "And I want all the world to see we've met\n",
            "Mmm-mmm-da-da-da\n",
            "\n",
            "[Chorus]\n",
            "Love of my life\n",
            "[Verse 5]\n",
            "I can't forget the time or place\n",
            "Where we just met, she's just the girl for me\n",
            "And I want all the world to see we've met\n",
            "Mmm-mmm-da-da-da\n",
            "\n",
            "[Chorus]\n",
            "For if my love had lasted a day\n",
            "She would never have said a word\n",
            "To me, she's just the girl for me\n",
            "Just the thing that makes me tick\n",
            "I think of her almost all the time\n",
            "\n",
            "[Verse 6]\n",
            "It's just a feeling in my heart\n",
            "Like an ocean of tears waiting to be lit\n",
            "Till I find the one I really love\n",
            "And I want all the world to see we've met\n",
            "Just the thing that makes me tick\n",
            "Oh-oh-oh-oh\n",
            "\n",
            "[Chorus]\n",
            "For if my love had lasted a day\n",
            "She would never have said a word\n",
            "To me, she's just the girl for me\n",
            "Just the thing that makes me tick\n",
            "I think of her almost all the time\n",
            "\n",
            "[Verse 7]\n",
            "It's just a feeling in my heart like an ocean of tears waiting to be lit\n",
            "Till I find the one I really love\n",
            "And I want all the world to see we've met\n",
            "Just the thing that makes me tick\n",
            "Oh-oh-oh-oh\n",
            "\n",
            "[Chorus]\n",
            "For if my love had lasted a day\n",
            "She would never have said a word\n",
            "To me, she's just the girl for me\n",
            "Just the thing that makes me tick\n",
            "I think of her almost all the time\n",
            "\n",
            "[Verse 8]\n",
            "It's just a feeling in my heart like an ocean of tears waiting to be lit\n",
            "Till I find the one I really love\n",
            "And I want all the world to see we've met\n",
            "Just the thing that makes me tick\n",
            "I think of her almost all the time\n",
            "\n",
            "[Verse 9]\n",
            "It's just a feeling in my heart like an ocean of tears waiting to be lit\n",
            "Till I find the one I really love\n",
            "And I want all the world to see we've met\n",
            "Just the thing that makes me laugh\n",
            "I think of her almost all the time\n",
            "\n",
            "[Chorus]\n",
            "For if my love had lasted a day\n",
            "She would never have said a word\n",
            "To me, she's just the girl for me\n",
            "Just the thing that makes me tick\n",
            "I think of her almost all the time\n",
            "\n",
            "[Verse 1]\n",
            "When I think of her I often feel blue\n",
            "She seems to think of no one else\n",
            "But every now and then she turns my mind\n",
            "I think of her almost all the time\n",
            "\n",
            "[Chorus]\n",
            "For if my love had lasted a day\n",
            "She might not have said a word\n",
            "To me, she's just the girl for me\n",
            "Just the thing that makes me laugh\n",
            "I think of her almost all the time\n",
            "\n",
            "[Chorus]\n",
            "For if my love had lasted a day\n",
            "She might not have said a word\n",
            "To me, she's just the girl for me\n",
            "Just the thing that makes me laugh\n",
            "I think of her almost all the time\n",
            "\n",
            "[Verse 2]\n",
            "When I think of her I often feel blue\n",
            "She seems to think of no one else\n",
            "But every now and then she turns my mind\n",
            "I think of her almost all the time\n",
            "\n",
            "[Chorus]\n",
            "For if my love had lasted a day\n",
            "She might not have said a word\n",
            "To me, she's just the girl for\n"
          ],
          "name": "stdout"
        }
      ]
    },
    {
      "cell_type": "code",
      "metadata": {
        "id": "YyBf1MgAtOAB",
        "outputId": "485a0af6-4ce2-4337-ef59-e38f5c3bc361",
        "colab": {
          "base_uri": "https://localhost:8080/"
        }
      },
      "source": [
        "print(generate('Love of my life', temperature=0.8, top_k=40))"
      ],
      "execution_count": 19,
      "outputs": [
        {
          "output_type": "stream",
          "text": [
            "Setting `pad_token_id` to 50256 (first `eos_token_id`) to generate sequence\n"
          ],
          "name": "stderr"
        },
        {
          "output_type": "stream",
          "text": [
            "<s_song>\n",
            "Love of my life\n",
            "[Lyrics]\n",
            "[Verse 1]\n",
            "There is one love I have\n",
            "Love that keeps me on my toes\n",
            "Sitting here in Blue Jay Way\n",
            "\n",
            "[Verse 2]\n",
            "Don't want to spend\n",
            "Another day here\n",
            "Loving you like I've never done\n",
            "In the morning\n",
            "Just waiting for you\n",
            "\n",
            "[Chorus]\n",
            "Love of my life\n",
            "Love of my life\n",
            "Love of my life\n",
            "\n",
            "[Verse 3]\n",
            "Longer than the road that stretches out ahead\n",
            "\n",
            "[Bridge]\n",
            "And before too long, I fall in love with you\n",
            "\n",
            "[Instrumental Break]\n",
            "\n",
            "[Chorus]\n",
            "\n",
            "[Verse 1]\n",
            "Don't want to spend\n",
            "Another day here\n",
            "Loving you like I've never done\n",
            "In the morning\n",
            "Just waiting for you\n",
            "\n",
            "[Chorus]\n",
            "\n",
            "[Verse 2]\n",
            "Don't want to spend\n",
            "Another day here\n",
            "Loving you like I've never done\n",
            "In the morning\n",
            "Just waiting for you\n",
            "\n",
            "[Chorus]\n",
            "\n",
            "[Verse 3]\n",
            "Love of my life\n",
            "Love of my life\n",
            "Love of my life\n",
            "\n",
            "[Bridge]\n",
            "And before too long, I fall in love with you\n",
            "\n",
            "[Instrumental Break]\n",
            "\n",
            "[Chorus]\n",
            "\n",
            "[Verse 1]\n",
            "Don't want to spend\n",
            "Another day here\n",
            "Loving you like I've never done\n",
            "In the morning\n",
            "Just waiting for you\n",
            "\n",
            "[Chorus]\n",
            "\n",
            "[Verse 2]\n",
            "Don't want to spend\n",
            "Another day here\n",
            "Loving you like I've never done\n",
            "In the morning\n",
            "Just waiting for you\n",
            "\n",
            "[Chorus]\n",
            "\n",
            "[Verse 3]\n",
            "I don't want to spend\n",
            "Another day here\n",
            "Loving you like I've never done\n",
            "In the morning\n",
            "Just waiting for you\n",
            "\n",
            "[Chorus]\n",
            "\n",
            "[Verse 4]\n",
            "Ooh, don't want to spend\n",
            "Another day here\n",
            "Just waiting for you\n",
            "Don't want to spend\n",
            "Another day here\n",
            "Just waiting for you\n",
            "<e_song>\n",
            "\n",
            "<s_song>\n",
            "Something/Blue Jay Way\n",
            "[Lyrics]\n",
            "[Verse 1]\n",
            "Something in the way she moves\n",
            "Attracts me like no other lover\n",
            "Something in the way she woos me\n",
            "I don't want to leave her now\n",
            "You know I believe and how\n",
            "\n",
            "[Verse 2]\n",
            "Somewhere in her smile she knows\n",
            "That I don't need no other lover\n",
            "Something in her style that shows me\n",
            "I don't want to leave her now\n",
            "You know I believe and how\n",
            "\n",
            "[Bridge]\n",
            "Something in her smile that shows me\n",
            "I don't want to leave her now\n",
            "You know I believe and how\n",
            "\n",
            "[Chorus]\n",
            "\n",
            "[Verse 1]\n",
            "Something in her style that shows me\n",
            "I don't need no other lover\n",
            "Something in her style that shows me\n",
            "I don't want to leave her now\n",
            "\n",
            "[Verse 2]\n",
            "Something in her style with her hair down to the knee\n",
            "Tight lips and a smile\n",
            "Something in her style that shows me\n",
            "I don't want to leave her now\n",
            "\n",
            "[Chorus]\n",
            "\n",
            "[Verse 3]\n",
            "Something in her style that shows me\n",
            "I don't need no other lover\n",
            "Something in her style that shows me\n",
            "I don't want to leave her now\n",
            "\n",
            "[Chorus]\n",
            "\n",
            "[Verse 1]\n",
            "Something in her style that shows me\n",
            "I don't need no other lover\n",
            "Something in her style that shows me\n",
            "I don't want to leave her now\n",
            "\n",
            "[Chorus]\n",
            "\n",
            "[Verse 2]\n",
            "Something in her style that shows me\n",
            "I don't need no other lover\n",
            "Something in her style that shows me\n",
            "I don't want to leave her now\n",
            "\n",
            "[Chorus]\n",
            "\n",
            "[Verse 3]\n",
            "Something in her style that shows me\n",
            "I don't need no other lover\n",
            "Something in her style that shows me\n",
            "I don't want to leave her now\n",
            "\n",
            "[Chorus]\n",
            "\n",
            "[Verse 4]\n",
            "Something in her style that shows me\n",
            "I don't need no other lover\n",
            "Something in her style that shows me\n",
            "I don't want to leave her now\n",
            "\n",
            "[Chorus]\n",
            "\n",
            "[Verse 5]\n",
            "Something in her style that shows me\n",
            "I don't need no other lover\n",
            "Something in her style that shows me\n",
            "I don't want to leave her now\n",
            "\n",
            "[Chorus]\n",
            "\n",
            "[Verse 6]\n",
            "Something in her style that shows me\n",
            "I don't need no other lover\n",
            "Something in her style that shows me\n",
            "I\n"
          ],
          "name": "stdout"
        }
      ]
    },
    {
      "cell_type": "code",
      "metadata": {
        "id": "v5N9PqlMtQnG",
        "outputId": "8b16b0dc-b3c5-4acd-8a2c-d063e28a733d",
        "colab": {
          "base_uri": "https://localhost:8080/"
        }
      },
      "source": [
        "print(generate('Love of my life', temperature=1.2, top_k=0))"
      ],
      "execution_count": 20,
      "outputs": [
        {
          "output_type": "stream",
          "text": [
            "Setting `pad_token_id` to 50256 (first `eos_token_id`) to generate sequence\n"
          ],
          "name": "stderr"
        },
        {
          "output_type": "stream",
          "text": [
            "<s_song>\n",
            "Love of my life\n",
            "[Lyrics]\n",
            "[Verse 1]\n",
            "It is not enough for me to show you my love\n",
            "That is, I must show you my love\n",
            "Who can forget the love I have who came to share\n",
            "And show you the joy that comes from holding you close\n",
            "\n",
            "[Verse 2]\n",
            "When I call you on the telephone\n",
            "You say, \"It's me\"\n",
            "When I whisper in your ear\n",
            "You say, \"It's me, love\"\n",
            "Just like I've known the secret for some time now\n",
            "\n",
            "[Chorus]\n",
            "Now this is the end, happy with you\n",
            "\n",
            "[Outro]\n",
            "Love of my life\n",
            "Love of my life\n",
            "Love of my life\n",
            "\n",
            "[Verse 3]\n",
            "When I write down a short list of love songs\n",
            "Each one speaking of a love that has already been\n",
            "And leaving no stone unturned\n",
            "I just have to suppose it belongs to you\n",
            "\n",
            "[Chorus]\n",
            "All the songs that you've just heard\n",
            "All the songs that you're thinking of\n",
            "All the songs that you're thinking of\n",
            "All the songs that you're thinking of\n",
            "All the songs that you're thinking of\n",
            "All the songs that you're thinking of\n",
            "All the songs that you're thinking of\n",
            "All the songs that you're thinking of\n",
            "All the songs that you're thinking of\n",
            "All the songs that you're thinking of\n",
            "<e_song>\n",
            "\n",
            "<s_song>\n",
            "Please Mister Postman\n",
            "[Lyrics]\n",
            "[Verse 1]\n",
            "When I call you on the telephone\n",
            "You say, \"It's me\"\n",
            "When I whisper in your ear\n",
            "You say, \"It's me\"\n",
            "When I whisper in your ear\n",
            "I hear you say, \"It's me\"\n",
            "When I hear you say, \"It's me\"\n",
            "\n",
            "[Verse 2]\n",
            "When I call you on the telephone\n",
            "You say, \"It's me\"\n",
            "When I whisper in your ear\n",
            "I hear you say, \"It's me\"\n",
            "When I hear you say, \"It's me\"\n",
            "\n",
            "[Bridge]\n",
            "It's been a hard day's night\n",
            "And I have been working like a dog\n",
            "It's been a hard day's night\n",
            "I should have slept in the morning\n",
            "But I found that when I'm in the mood\n",
            "I'll creep out and roam around\n",
            "I'll never look at you\n",
            "That's why I told you\n",
            "<e_song>\n",
            "\n",
            "<s_song>\n",
            "Little Child\n",
            "[Lyrics]\n",
            "[Verse 1]\n",
            "When I see you around town\n",
            "The sight makes me want to cry\n",
            "But when I see you by your side\n",
            "I feel so flat and lonely\n",
            "Just like a dog that you keep running\n",
            "Ooh it's you, oh it's you\n",
            "Little child\n",
            "\n",
            "[Bridge]\n",
            "Little child\n",
            "Little child\n",
            "\n",
            "[Verse 2]\n",
            "When I see the people that come and go\n",
            "The smile that they show\n",
            "While I'm away\n",
            "I wonder what they've said or done\n",
            "While I'm here\n",
            "I hope they see that I'm only managing\n",
            "Because I'm so lonely\n",
            "Just like a dog that you keep running\n",
            "Ooh it's you, oh it's you\n",
            "Little child\n",
            "\n",
            "[Verse 3]\n",
            "When I see the people that come and go\n",
            "The sight makes me want to cry\n",
            "But when I see you by your side\n",
            "I feel so flat and lonely\n",
            "Just like a dog that you keep running\n",
            "Ooh it's you, oh it's you\n",
            "Little child\n",
            "\n",
            "[Verse 4]\n",
            "When I see the people that come and go\n",
            "The sight makes me want to cry\n",
            "But when I see you by your side\n",
            "I feel so flat and lonely\n",
            "Just like a dog that you keep running\n",
            "Ooh it's you, oh it's you\n",
            "Little child\n",
            "\n",
            "[Verse 5]\n",
            "When I see the people that come and go\n",
            "The sight makes me want to cry\n",
            "But when I see you by your side\n",
            "I feel so flat and lonely\n",
            "Just like a dog that you keep running\n",
            "Ooh it's you, oh it's you\n",
            "Nothing child, nothing child\n",
            "Nothing child\n",
            "Nothing child\n",
            "<e_song>\n",
            "\n",
            "<s_song>\n",
            "Something in the Way\n",
            "[Lyrics]\n",
            "[Verse]\n",
            "Something in the way that she moves\n",
            "I think of her, I think of her\n",
            "Something in the things she shows me\n",
            "She brings to me, I think of her\n",
            "\n",
            "[Intro]\n",
            "Something in the way she woos me\n",
            "I think of her, I think of her\n",
            "\n",
            "[Verse 1]\n",
            "When I see her standing right in front of me\n"
          ],
          "name": "stdout"
        }
      ]
    },
    {
      "cell_type": "code",
      "metadata": {
        "id": "Qj0WloPGtTeR",
        "outputId": "b4c2d730-6920-4850-8b50-266d202df550",
        "colab": {
          "base_uri": "https://localhost:8080/"
        }
      },
      "source": [
        "print(generate('Love of my life', temperature=1.2, top_k=40))"
      ],
      "execution_count": 24,
      "outputs": [
        {
          "output_type": "stream",
          "text": [
            "Setting `pad_token_id` to 50256 (first `eos_token_id`) to generate sequence\n"
          ],
          "name": "stderr"
        },
        {
          "output_type": "stream",
          "text": [
            "<s_song>\n",
            "Love of my life\n",
            "[Lyrics]\n",
            "[Verse 1]\n",
            "The stars that shine above\n",
            "Will light our way to love\n",
            "\n",
            "[Chorus]\n",
            "Love of my life\n",
            "Love of my life\n",
            "Love of my life\n",
            "\n",
            "[Verse 2]\n",
            "In the evening sky\n",
            "People tell me that there's someone there\n",
            "But I haven't seen him there\n",
            "\n",
            "[Chorus]\n",
            "There's nowhere I can be\n",
            "Just like this little blue hilltop\n",
            "Will I ever be free\n",
            "So go away\n",
            "\n",
            "[Instrumental Verses]\n",
            "\n",
            "[Verse 3]\n",
            "As the June light turns to moonlight\n",
            "I tune in to the sound\n",
            "Like an octopus on an electric light dance\n",
            "\n",
            "[Chorus]\n",
            "As the June light turns to moonlight\n",
            "I tune in to the sound\n",
            "Like an octopus on an electric light dance\n",
            "\n",
            "[Chorus]\n",
            "I know I never really been aware of this before\n",
            "But I've learned to dance like an African dancer\n",
            "\n",
            "[Instrumental Verses]\n",
            "\n",
            "[Verse 4]\n",
            "At night where the sun is shining\n",
            "People tell me that there's a presence there\n",
            "But I haven't seen him there\n",
            "\n",
            "[Chorus]\n",
            "There's nowhere I can be\n",
            "Just like this little blue hilltop\n",
            "Will I ever be free\n",
            "So go away\n",
            "\n",
            "[Instrumental Verses]\n",
            "\n",
            "[Verse 5]\n",
            "As the June light turns to moonlight\n",
            "I tune in to the sound\n",
            "Like an octopus on an electric light dance\n",
            "\n",
            "[Chorus]\n",
            "I know I never really been aware of this before\n",
            "But I've learned to dance like an African dancer\n",
            "\n",
            "[Instrumental Verses]\n",
            "\n",
            "[Verse 6]\n",
            "At night where the sun is shining\n",
            "People tell me there's a presence there\n",
            "But I haven't seen him there\n",
            "\n",
            "[Chorus]\n",
            "There's nowhere I can be\n",
            "Just like this little blue hilltop\n",
            "Will I ever be free\n",
            "So go away\n",
            "\n",
            "[Instrumental Verses]\n",
            "\n",
            "[Verse 7]\n",
            "When the June light turns to moonlight\n",
            "I tune in to the sound\n",
            "Like an octopus on an electric light dance\n",
            "\n",
            "[Chorus]\n",
            "I know I never really been aware of this before\n",
            "But I've learned to dance like an African dancer\n",
            "\n",
            "[Instrumental Verses]\n",
            "\n",
            "[Verse 8]\n",
            "When the June light turns to moonlight\n",
            "I tune in to the sound\n",
            "Like an octopus on an electric light dance\n",
            "\n",
            "[Chorus]\n",
            "I know I never really been aware of this before\n",
            "But I've learned to dance like an African dancer\n",
            "\n",
            "[Instrumental Verses]\n",
            "\n",
            "[Verse 9]\n",
            "When the June light turns to moonlight\n",
            "I tune in to the sound\n",
            "Like an octopus on an electric light dance\n",
            "\n",
            "[Chorus]\n",
            "I know I never really been aware of this before\n",
            "But I've learned to dance like an African dancer\n",
            "\n",
            "[Instrumental Verses]\n",
            "\n",
            "[Verse 10]\n",
            "When the June light turns to moonlight\n",
            "I tune in to the sound\n",
            "Like an octopus on an electric light dance\n",
            "\n",
            "[Chorus]\n",
            "I know I never really been aware of this before\n",
            "But I've learned to dance like an African dancer\n",
            "\n",
            "[Instrumental Verses]\n",
            "\n",
            "[Verse 11]\n",
            "When the June light turns to moonlight\n",
            "I tune in to the sound\n",
            "Like an octopus on an electric light dance\n",
            "\n",
            "[Chorus]\n",
            "I know I never really been aware of this before\n",
            "But I've learned to dance like an African dancer\n",
            "\n",
            "[Instrumental Verses]\n",
            "\n",
            "[Verse 12]\n",
            "When the June light turns to moonlight\n",
            "I tune in to the sound\n",
            "Like an octopus on an electric light dance\n",
            "\n",
            "[Chorus]\n",
            "I know I never really been aware of this before\n",
            "But I've learned to dance like an African dancer\n",
            "\n",
            "[Instrumental Verses]\n",
            "\n",
            "[Verse 13]\n",
            "When the June light turns to moonlight\n",
            "I tune in to the sound\n",
            "Like an octopus on an electric light dance\n",
            "\n",
            "[Chorus]\n",
            "I know I never really been aware of this before\n",
            "But I've learned to dance like an African dancer\n",
            "\n",
            "[Instrumental Verses]\n",
            "\n",
            "[Verse 14]\n",
            "When the June light turns to moonlight\n",
            "I tune in to the sound\n",
            "Like a octopus on an electric light dance\n",
            "\n",
            "[Chorus]\n",
            "I know I never really been aware of this before\n",
            "But I've learned to dance like an African dancer\n",
            "\n",
            "[Instrumental Verses\n"
          ],
          "name": "stdout"
        }
      ]
    },
    {
      "cell_type": "code",
      "metadata": {
        "id": "fhvTO1Unar86"
      },
      "source": [
        ""
      ],
      "execution_count": null,
      "outputs": []
    }
  ]
}